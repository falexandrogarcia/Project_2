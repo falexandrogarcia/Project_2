{
 "cells": [
  {
   "cell_type": "code",
   "execution_count": 2,
   "id": "83226088",
   "metadata": {
    "scrolled": true
   },
   "outputs": [
    {
     "name": "stdout",
     "output_type": "stream",
     "text": [
      "Requirement already satisfied: psycopg2 in c:\\users\\ganger\\anaconda3\\envs\\pythondata\\lib\\site-packages (2.9.5)\n",
      "Note: you may need to restart the kernel to use updated packages.\n"
     ]
    }
   ],
   "source": [
    "pip install psycopg2"
   ]
  },
  {
   "cell_type": "markdown",
   "id": "5846b90a",
   "metadata": {},
   "source": [
    "# Project II \n",
    "### Data Manipulation"
   ]
  },
  {
   "cell_type": "code",
   "execution_count": 1,
   "id": "ca740761",
   "metadata": {},
   "outputs": [],
   "source": [
    "# Dependencies\n",
    "import sqlalchemy\n",
    "from sqlalchemy.ext.automap import automap_base\n",
    "from sqlalchemy.orm import Session\n",
    "from sqlalchemy import create_engine\n",
    "\n"
   ]
  },
  {
   "cell_type": "code",
   "execution_count": 2,
   "id": "3fe0397a",
   "metadata": {},
   "outputs": [],
   "source": [
    "import pandas as pd"
   ]
  },
  {
   "cell_type": "code",
   "execution_count": 3,
   "id": "067b6ee3",
   "metadata": {},
   "outputs": [],
   "source": [
    "Associates = pd.DataFrame(\n",
    "{\n",
    "    \"Associates UIK\",\n",
    "    \"Position\",\n",
    "    \"Account\"\n",
    "})"
   ]
  },
  {
   "cell_type": "code",
   "execution_count": 4,
   "id": "fb3d6862",
   "metadata": {},
   "outputs": [],
   "source": [
    "Position_info = pd.DataFrame(\n",
    "{\n",
    "    \"Positions\",\n",
    "    \"Base Wage\",\n",
    "    \"Incentive\",\n",
    "    \"Base OT\",\n",
    "    \"Incentive OT\"\n",
    "})"
   ]
  },
  {
   "cell_type": "code",
   "execution_count": 5,
   "id": "fe827f4d",
   "metadata": {},
   "outputs": [],
   "source": [
    "SKU_Master = pd.DataFrame(\n",
    "{\n",
    "    \"SKU id number\",\n",
    "    \"Description\",\n",
    "    \"Run rate\",\n",
    "    \"Hourly Run rate\",\n",
    "    \"Case cost\",\n",
    "    \"Position/case\"\n",
    "})"
   ]
  },
  {
   "cell_type": "code",
   "execution_count": 6,
   "id": "6473b62a",
   "metadata": {},
   "outputs": [],
   "source": [
    "Volume = pd.DataFrame(\n",
    "{\n",
    "    \"SKU id\",\n",
    "    \"Production Volume\",\n",
    "    \"Date\"\n",
    "})"
   ]
  },
  {
   "cell_type": "code",
   "execution_count": 9,
   "id": "19681abe",
   "metadata": {},
   "outputs": [],
   "source": [
    "# Payroll = pd.DataFrame(\n",
    "# {\n",
    "#     \"Associates UIK\",\n",
    "#     \"Pay\",\n",
    "#     \"Date\"\n",
    "# })\n",
    "file = \"Payroll.csv\"\n",
    "payroll = pd.read_csv(file, encoding=\"ISO-8859-1\")"
   ]
  },
  {
   "cell_type": "code",
   "execution_count": 10,
   "id": "6464e6ef",
   "metadata": {},
   "outputs": [
    {
     "data": {
      "text/html": [
       "<div>\n",
       "<style scoped>\n",
       "    .dataframe tbody tr th:only-of-type {\n",
       "        vertical-align: middle;\n",
       "    }\n",
       "\n",
       "    .dataframe tbody tr th {\n",
       "        vertical-align: top;\n",
       "    }\n",
       "\n",
       "    .dataframe thead th {\n",
       "        text-align: right;\n",
       "    }\n",
       "</style>\n",
       "<table border=\"1\" class=\"dataframe\">\n",
       "  <thead>\n",
       "    <tr style=\"text-align: right;\">\n",
       "      <th></th>\n",
       "      <th>ï»¿Date</th>\n",
       "      <th>Pay Code</th>\n",
       "      <th>Hours</th>\n",
       "      <th>Wages</th>\n",
       "      <th>Associate UIK</th>\n",
       "    </tr>\n",
       "  </thead>\n",
       "  <tbody>\n",
       "    <tr>\n",
       "      <th>0</th>\n",
       "      <td>9/7/2022</td>\n",
       "      <td>Regular</td>\n",
       "      <td>8.00</td>\n",
       "      <td>120.64</td>\n",
       "      <td>2727156</td>\n",
       "    </tr>\n",
       "    <tr>\n",
       "      <th>1</th>\n",
       "      <td>9/7/2022</td>\n",
       "      <td>Regular</td>\n",
       "      <td>8.00</td>\n",
       "      <td>258.49</td>\n",
       "      <td>2727832</td>\n",
       "    </tr>\n",
       "    <tr>\n",
       "      <th>2</th>\n",
       "      <td>9/7/2022</td>\n",
       "      <td>Regular</td>\n",
       "      <td>8.00</td>\n",
       "      <td>120.64</td>\n",
       "      <td>2727208</td>\n",
       "    </tr>\n",
       "    <tr>\n",
       "      <th>3</th>\n",
       "      <td>9/7/2022</td>\n",
       "      <td>Regular</td>\n",
       "      <td>8.15</td>\n",
       "      <td>146.21</td>\n",
       "      <td>2725570</td>\n",
       "    </tr>\n",
       "    <tr>\n",
       "      <th>4</th>\n",
       "      <td>9/7/2022</td>\n",
       "      <td>Regular</td>\n",
       "      <td>8.42</td>\n",
       "      <td>183.82</td>\n",
       "      <td>2726090</td>\n",
       "    </tr>\n",
       "  </tbody>\n",
       "</table>\n",
       "</div>"
      ],
      "text/plain": [
       "    ï»¿Date Pay Code  Hours   Wages  Associate UIK\n",
       "0  9/7/2022  Regular   8.00  120.64        2727156\n",
       "1  9/7/2022  Regular   8.00  258.49        2727832\n",
       "2  9/7/2022  Regular   8.00  120.64        2727208\n",
       "3  9/7/2022  Regular   8.15  146.21        2725570\n",
       "4  9/7/2022  Regular   8.42  183.82        2726090"
      ]
     },
     "execution_count": 10,
     "metadata": {},
     "output_type": "execute_result"
    }
   ],
   "source": [
    "payroll.head()"
   ]
  },
  {
   "cell_type": "markdown",
   "id": "141a9104",
   "metadata": {},
   "source": [
    "# JSONify the data"
   ]
  },
  {
   "cell_type": "code",
   "execution_count": 11,
   "id": "c67d2d40",
   "metadata": {},
   "outputs": [],
   "source": [
    "# json_file = \"../Resources/Associates.json\"\n",
    "# Associates = pd.read_json(json_file)"
   ]
  },
  {
   "cell_type": "markdown",
   "id": "4cce8692",
   "metadata": {},
   "source": [
    "# Connect to the SQL database"
   ]
  },
  {
   "cell_type": "code",
   "execution_count": 12,
   "id": "8879548a",
   "metadata": {},
   "outputs": [],
   "source": [
    "protocol = 'postgresql'\n",
    "username = 'postgres'\n",
    "password = 'postgres'\n",
    "host = 'localhost'\n",
    "port = 5432\n",
    "database_name = 'project_two_db'\n",
    "rds_connection_string = f'{protocol}://{username}:{password}@{host}:{port}/{database_name}'\n",
    "engine = create_engine(rds_connection_string)"
   ]
  },
  {
   "cell_type": "markdown",
   "id": "fef544f2",
   "metadata": {},
   "source": [
    "# Load the tables to SQL database"
   ]
  },
  {
   "cell_type": "code",
   "execution_count": 14,
   "id": "ba58ddf9",
   "metadata": {},
   "outputs": [],
   "source": [
    "# new_customer_data_df.to_sql(name='Associates', con=engine, if_exists='append', index=False)\n",
    "# new_customer_data_df.to_sql(name='Position_info', con=engine, if_exists='append', index=False)\n",
    "# new_customer_data_df.to_sql(name='SKU_Master', con=engine, if_exists='append', index=False)\n",
    "# new_customer_data_df.to_sql(name='Volume', con=engine, if_exists='append', index=False)\n",
    "payroll.to_sql(name='payroll', con=engine, if_exists='append', index=False)"
   ]
  },
  {
   "cell_type": "code",
   "execution_count": null,
   "id": "ce234aee",
   "metadata": {},
   "outputs": [],
   "source": []
  }
 ],
 "metadata": {
  "kernelspec": {
   "display_name": "PythonData",
   "language": "python",
   "name": "pythondata"
  },
  "language_info": {
   "codemirror_mode": {
    "name": "ipython",
    "version": 3
   },
   "file_extension": ".py",
   "mimetype": "text/x-python",
   "name": "python",
   "nbconvert_exporter": "python",
   "pygments_lexer": "ipython3",
   "version": "3.7.7"
  }
 },
 "nbformat": 4,
 "nbformat_minor": 5
}
